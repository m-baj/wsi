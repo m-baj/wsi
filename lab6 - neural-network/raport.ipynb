{
 "cells": [
  {
   "cell_type": "markdown",
   "metadata": {},
   "source": [
    "<h1 style=\"text-align: center;\">WSI - ćwiczenie 6. - Sieci neuronowe</h1>"
   ]
  },
  {
   "cell_type": "code",
   "execution_count": 10,
   "metadata": {},
   "outputs": [],
   "source": [
    "from neural_network import NeuralNetwork, InputLayer, HiddenLayer\n",
    "from activation import Activation\n",
    "from loss import Loss\n",
    "import numpy as np\n",
    "from prepare_data import prepare_data\n",
    "import matplotlib.pyplot as plt\n",
    "from sklearn.metrics import precision_score, recall_score, roc_auc_score, RocCurveDisplay"
   ]
  },
  {
   "cell_type": "markdown",
   "metadata": {},
   "source": [
    "### Badanie precyzji i czułości modelu w zależności od wyboru funkcji aktywacji:"
   ]
  },
  {
   "cell_type": "markdown",
   "metadata": {},
   "source": [
    "### Eksperyment 1:\n",
    " - 3 warstwy:\n",
    "    1. wejściowa - 3 nerurony\n",
    "    2. ukryta - 10 neuronów\n",
    "    3. końcowa - 20 neuronów\n",
    " - sigmoidalna funkcja aktywacji\n",
    " - 10 iteracji\n",
    " - learning rate - 0.1"
   ]
  },
  {
   "cell_type": "code",
   "execution_count": null,
   "metadata": {},
   "outputs": [],
   "source": [
    "X_train, X_test, y_train, y_test = prepare_data()\n",
    "\n",
    "nn = NeuralNetwork([\n",
    "    InputLayer(3),\n",
    "    HiddenLayer(10, Activation.sigmoid),\n",
    "    HiddenLayer(20, Activation.sigmoid),\n",
    "])\n",
    "\n",
    "nn.fit(X_train, y_train, epochs=10, learning_rate=0.1)"
   ]
  },
  {
   "cell_type": "code",
   "execution_count": 21,
   "metadata": {},
   "outputs": [
    {
     "name": "stdout",
     "output_type": "stream",
     "text": [
      "[[1. 0. 0. ... 0. 0. 0.]\n",
      " [0. 0. 0. ... 0. 0. 0.]\n",
      " [0. 0. 0. ... 0. 0. 0.]\n",
      " ...\n",
      " [0. 0. 0. ... 0. 0. 0.]\n",
      " [0. 1. 0. ... 0. 0. 0.]\n",
      " [0. 0. 0. ... 0. 0. 0.]]\n",
      "0.6368005492619293\n",
      "0.6368005492619293\n",
      "0.8088423943483838\n"
     ]
    }
   ],
   "source": [
    "y_pred = nn.predict(X_test)\n",
    "\n",
    "precision1 = precision_score(y_test, y_pred, average='micro')\n",
    "recall1 = recall_score(y_test, y_pred, average='micro')\n",
    "roc1 = roc_auc_score(y_test, y_pred, average='micro')\n",
    "print(precision1)\n",
    "print(recall1)\n",
    "print(roc1)"
   ]
  },
  {
   "cell_type": "markdown",
   "metadata": {},
   "source": [
    "### Wyniki:\n",
    " - precyzja: 0.64\n",
    " - czułość: 0.64\n",
    " - ROC AUC score: 0.80"
   ]
  },
  {
   "cell_type": "markdown",
   "metadata": {},
   "source": [
    "### Eksperyment 2:\n",
    " - 3 warstwy:\n",
    "    1. wejściowa - 3 nerurony\n",
    "    2. ukryta - 10 neuronów\n",
    "    3. końcowa - 20 neuronów\n",
    " - funkcja aktywacji: RELU\n",
    " - 10 iteracji\n",
    " - learning rate - 0.1"
   ]
  },
  {
   "cell_type": "code",
   "execution_count": null,
   "metadata": {},
   "outputs": [],
   "source": [
    "X_train, X_test, y_train, y_test = prepare_data()\n",
    "\n",
    "nn = NeuralNetwork([\n",
    "    InputLayer(3),\n",
    "    HiddenLayer(10, Activation.relu),\n",
    "    HiddenLayer(20, Activation.relu),\n",
    "])\n",
    "\n",
    "nn.fit(X_train, y_train, epochs=10, learning_rate=0.1)"
   ]
  },
  {
   "cell_type": "code",
   "execution_count": 26,
   "metadata": {},
   "outputs": [
    {
     "name": "stdout",
     "output_type": "stream",
     "text": [
      "[[1. 0. 0. ... 0. 0. 0.]\n",
      " [0. 0. 0. ... 0. 0. 0.]\n",
      " [0. 0. 0. ... 0. 0. 0.]\n",
      " ...\n",
      " [0. 0. 0. ... 0. 0. 0.]\n",
      " [0. 0. 1. ... 0. 0. 0.]\n",
      " [0. 0. 0. ... 0. 0. 0.]]\n",
      "0.3468932372124957\n",
      "0.3468932372124957\n",
      "0.6562595985328925\n"
     ]
    }
   ],
   "source": [
    "y_pred = nn.predict(X_test)\n",
    "\n",
    "precision2 = precision_score(y_test, y_pred, average='micro')\n",
    "recall2 = recall_score(y_test, y_pred, average='micro')\n",
    "roc2 = roc_auc_score(y_test, y_pred, average='micro')\n",
    "print(precision2)\n",
    "print(recall2)\n",
    "print(roc2)"
   ]
  },
  {
   "cell_type": "markdown",
   "metadata": {},
   "source": [
    "### Wyniki:\n",
    " - precyzja: 0.34\n",
    " - czułość: 0.34\n",
    " - ROC AUC score: 0.66"
   ]
  },
  {
   "cell_type": "markdown",
   "metadata": {},
   "source": [
    "### Eksperyment 3:\n",
    " - 3 warstwy:\n",
    "    1. wejściowa - 3 nerurony\n",
    "    2. ukryta - 10 neuronów\n",
    "    3. końcowa - 20 neuronów\n",
    " - funkcja aktywacji: tanh\n",
    " - 10 iteracji\n",
    " - learning rate - 0.1"
   ]
  },
  {
   "cell_type": "code",
   "execution_count": null,
   "metadata": {},
   "outputs": [],
   "source": [
    "X_train, X_test, y_train, y_test = prepare_data()\n",
    "\n",
    "nn = NeuralNetwork([\n",
    "    InputLayer(3),\n",
    "    HiddenLayer(10, Activation.tanh),\n",
    "    HiddenLayer(20, Activation.tanh),\n",
    "])\n",
    "\n",
    "nn.fit(X_train, y_train, epochs=10, learning_rate=0.1)"
   ]
  },
  {
   "cell_type": "code",
   "execution_count": 31,
   "metadata": {},
   "outputs": [
    {
     "name": "stdout",
     "output_type": "stream",
     "text": [
      "[[0. 0. 0. ... 0. 0. 0.]\n",
      " [0. 0. 0. ... 0. 0. 0.]\n",
      " [0. 0. 0. ... 0. 0. 0.]\n",
      " ...\n",
      " [0. 0. 0. ... 0. 0. 0.]\n",
      " [0. 0. 1. ... 0. 0. 0.]\n",
      " [0. 0. 0. ... 0. 0. 0.]]\n",
      "0.2588396841743907\n",
      "0.2588396841743907\n",
      "0.6099156232496794\n"
     ]
    }
   ],
   "source": [
    "y_pred = nn.predict(X_test)\n",
    "\n",
    "precision3 = precision_score(y_test, y_pred, average='micro')\n",
    "recall3 = recall_score(y_test, y_pred, average='micro')\n",
    "roc3 = roc_auc_score(y_test, y_pred, average='micro')\n",
    "print(precision3)\n",
    "print(recall3)\n",
    "print(roc3)"
   ]
  },
  {
   "cell_type": "markdown",
   "metadata": {},
   "source": [
    "### Wyniki:\n",
    " - precyzja: 0.26\n",
    " - czułość: 0.26\n",
    " - ROC AUC score: 0.61"
   ]
  },
  {
   "cell_type": "code",
   "execution_count": 33,
   "metadata": {},
   "outputs": [
    {
     "data": {
      "image/png": "[encoded data removed]",
      "text/plain": [
       "<Figure size 640x480 with 1 Axes>"
      ]
     },
     "metadata": {},
     "output_type": "display_data"
    }
   ],
   "source": [
    "exp1 = [precision1, recall1, roc1, 'sigmoid']\n",
    "exp2 = [precision2, recall2, roc2, 'relu']\n",
    "exp3 = [precision3, recall3, roc3, 'tanh']\n",
    "fig, ax = plt.subplots()\n",
    "ax.bar(np.arange(3), exp1[:3], width=0.25, label=exp1[3])\n",
    "ax.bar(np.arange(3)+0.25, exp2[:3], width=0.25, label=exp2[3])\n",
    "ax.bar(np.arange(3)+0.5, exp3[:3], width=0.25, label=exp3[3])\n",
    "ax.set_xticks(np.arange(3)+0.25)\n",
    "ax.set_xticklabels(['precision', 'recall', 'roc'])\n",
    "ax.legend()\n",
    "plt.show()"
   ]
  },
  {
   "cell_type": "markdown",
   "metadata": {},
   "source": [
    "## Wnioski:\n",
    " - dla tego zbioru danych najlepsze wyniki osiągamy dla sigmoidalnej funkcji aktywacji"
   ]
  },
  {
   "cell_type": "markdown",
   "metadata": {},
   "source": [
    "### Badanie precyzji i czułości modelu w zależności od parametru uczenia:"
   ]
  },
  {
   "cell_type": "markdown",
   "metadata": {},
   "source": [
    "### Eksperyment 1:\n",
    " - 3 warstwy:\n",
    "    1. wejściowa - 3 nerurony\n",
    "    2. ukryta - 10 neuronów\n",
    "    3. końcowa - 20 neuronów\n",
    " - funkcja aktywacji: sigmoidalna\n",
    " - 10 iteracji\n",
    " - learning rate - 0.01"
   ]
  },
  {
   "cell_type": "code",
   "execution_count": null,
   "metadata": {},
   "outputs": [],
   "source": [
    "X_train, X_test, y_train, y_test = prepare_data()\n",
    "\n",
    "nn = NeuralNetwork([\n",
    "    InputLayer(3),\n",
    "    HiddenLayer(10, Activation.sigmoid),\n",
    "    HiddenLayer(20, Activation.sigmoid),\n",
    "])\n",
    "\n",
    "nn.fit(X_train, y_train, epochs=10, learning_rate=0.01)"
   ]
  },
  {
   "cell_type": "code",
   "execution_count": 63,
   "metadata": {},
   "outputs": [
    {
     "name": "stdout",
     "output_type": "stream",
     "text": [
      "[[1. 0. 0. ... 0. 0. 0.]\n",
      " [0. 0. 0. ... 0. 0. 0.]\n",
      " [0. 0. 0. ... 0. 0. 0.]\n",
      " ...\n",
      " [0. 0. 0. ... 0. 0. 0.]\n",
      " [1. 0. 0. ... 0. 0. 0.]\n",
      " [0. 0. 0. ... 0. 0. 0.]]\n",
      "0.6163748712667353\n",
      "0.6163748712667353\n",
      "0.798092037508808\n"
     ]
    }
   ],
   "source": [
    "y_pred = nn.predict(X_test)\n",
    "\n",
    "precision4 = precision_score(y_test, y_pred, average='micro')\n",
    "recall4 = recall_score(y_test, y_pred, average='micro')\n",
    "roc4 = roc_auc_score(y_test, y_pred, average='micro')\n",
    "print(precision4)\n",
    "print(recall4)\n",
    "print(roc4)"
   ]
  },
  {
   "cell_type": "markdown",
   "metadata": {},
   "source": [
    "### Wyniki:\n",
    " - precyzja: 0.62\n",
    " - czułość: 0.62\n",
    " - ROC AUC score: 0.80"
   ]
  },
  {
   "cell_type": "markdown",
   "metadata": {},
   "source": [
    "### Eksperyment 2:\n",
    " - 3 warstwy:\n",
    "    1. wejściowa - 3 nerurony\n",
    "    2. ukryta - 10 neuronów\n",
    "    3. końcowa - 20 neuronów\n",
    " - funkcja aktywacji: sigmoidalna\n",
    " - 10 iteracji \n",
    " - learning rate - 0.3"
   ]
  },
  {
   "cell_type": "code",
   "execution_count": null,
   "metadata": {},
   "outputs": [],
   "source": [
    "X_train, X_test, y_train, y_test = prepare_data()\n",
    "\n",
    "nn = NeuralNetwork([\n",
    "    InputLayer(3),\n",
    "    HiddenLayer(10, Activation.sigmoid),\n",
    "    HiddenLayer(20, Activation.sigmoid),\n",
    "])\n",
    "\n",
    "nn.fit(X_train, y_train, epochs=10, learning_rate=0.3)"
   ]
  },
  {
   "cell_type": "code",
   "execution_count": 67,
   "metadata": {},
   "outputs": [
    {
     "name": "stdout",
     "output_type": "stream",
     "text": [
      "0.5621352557500858\n",
      "0.5621352557500858\n",
      "0.7695448714474136\n"
     ]
    }
   ],
   "source": [
    "y_pred = nn.predict(X_test)\n",
    "\n",
    "precision5 = precision_score(y_test, y_pred, average='micro')\n",
    "recall5 = recall_score(y_test, y_pred, average='micro')\n",
    "roc5 = roc_auc_score(y_test, y_pred, average='micro')\n",
    "print(precision5)\n",
    "print(recall5)\n",
    "print(roc5)"
   ]
  },
  {
   "cell_type": "markdown",
   "metadata": {},
   "source": [
    "### Wyniki:\n",
    " - precyzja: 0.56\n",
    " - czułość: 0.56\n",
    " - ROC AUC score: 0.77"
   ]
  },
  {
   "cell_type": "markdown",
   "metadata": {},
   "source": [
    "### Eksperyment 3:\n",
    " - 3 warstwy:\n",
    "    1. wejściowa - 3 nerurony\n",
    "    2. ukryta - 10 neuronów\n",
    "    3. końcowa - 20 neuronów\n",
    " - funkcja aktywacji: sigmoidalna\n",
    " - 10 iteracji\n",
    " - learning rate - 0.5"
   ]
  },
  {
   "cell_type": "code",
   "execution_count": null,
   "metadata": {},
   "outputs": [],
   "source": [
    "X_train, X_test, y_train, y_test = prepare_data()\n",
    "\n",
    "nn = NeuralNetwork([\n",
    "    InputLayer(3),\n",
    "    HiddenLayer(10, Activation.sigmoid),\n",
    "    HiddenLayer(20, Activation.sigmoid),\n",
    "])\n",
    "\n",
    "nn.fit(X_train, y_train, epochs=10, learning_rate=0.5)"
   ]
  },
  {
   "cell_type": "code",
   "execution_count": 41,
   "metadata": {},
   "outputs": [
    {
     "name": "stderr",
     "output_type": "stream",
     "text": [
      "/home/mbaj/Desktop/WSI/laby/wsi/lab6 - neural-network/activation.py:9: RuntimeWarning: overflow encountered in exp\n",
      "  return 1 / (1 + np.exp(-x))\n"
     ]
    },
    {
     "name": "stdout",
     "output_type": "stream",
     "text": [
      "[[1. 0. 0. ... 0. 0. 0.]\n",
      " [0. 0. 0. ... 0. 0. 0.]\n",
      " [0. 0. 0. ... 0. 0. 0.]\n",
      " ...\n",
      " [0. 0. 0. ... 0. 0. 0.]\n",
      " [1. 0. 0. ... 0. 0. 0.]\n",
      " [0. 0. 0. ... 0. 0. 0.]]\n",
      "0.5950909715070374\n",
      "0.5950909715070374\n",
      "0.7868899850037039\n"
     ]
    }
   ],
   "source": [
    "y_pred = nn.predict(X_test)\n",
    "\n",
    "precision6 = precision_score(y_test, y_pred, average='micro')\n",
    "recall6 = recall_score(y_test, y_pred, average='micro')\n",
    "roc6 = roc_auc_score(y_test, y_pred, average='micro')\n",
    "print(precision6)\n",
    "print(recall6)\n",
    "print(roc6)"
   ]
  },
  {
   "cell_type": "markdown",
   "metadata": {},
   "source": [
    "### Wyniki:\n",
    " - precyzja: 0.6\n",
    " - czułość: 0.6\n",
    " - ROC AUC score: 0.79"
   ]
  },
  {
   "cell_type": "markdown",
   "metadata": {},
   "source": [
    "### Eksperyment 4:\n",
    " - 3 warstwy:\n",
    "    1. wejściowa - 3 nerurony\n",
    "    2. ukryta - 10 neuronów\n",
    "    3. końcowa - 20 neuronów\n",
    " - funkcja aktywacji: sigmoidalna\n",
    " - 10 iteracji\n",
    " - learning rate - 0.7"
   ]
  },
  {
   "cell_type": "code",
   "execution_count": null,
   "metadata": {},
   "outputs": [],
   "source": [
    "X_train, X_test, y_train, y_test = prepare_data()\n",
    "\n",
    "nn = NeuralNetwork([\n",
    "    InputLayer(3),\n",
    "    HiddenLayer(10, Activation.sigmoid),\n",
    "    HiddenLayer(20, Activation.sigmoid),\n",
    "])\n",
    "\n",
    "nn.fit(X_train, y_train, epochs=10, learning_rate=0.7)"
   ]
  },
  {
   "cell_type": "code",
   "execution_count": 43,
   "metadata": {},
   "outputs": [
    {
     "name": "stdout",
     "output_type": "stream",
     "text": [
      "[[1. 0. 0. ... 0. 0. 0.]\n",
      " [0. 0. 0. ... 0. 0. 0.]\n",
      " [0. 0. 0. ... 0. 0. 0.]\n",
      " ...\n",
      " [0. 0. 0. ... 0. 0. 0.]\n",
      " [1. 0. 0. ... 0. 0. 0.]\n",
      " [0. 0. 0. ... 0. 0. 0.]]\n",
      "0.5540679711637487\n",
      "0.5540679711637487\n",
      "0.7652989321914467\n"
     ]
    }
   ],
   "source": [
    "y_pred = nn.predict(X_test)\n",
    "\n",
    "precision7 = precision_score(y_test, y_pred, average='micro')\n",
    "recall7 = recall_score(y_test, y_pred, average='micro')\n",
    "roc7 = roc_auc_score(y_test, y_pred, average='micro')\n",
    "print(precision7)\n",
    "print(recall7)\n",
    "print(roc7)"
   ]
  },
  {
   "cell_type": "markdown",
   "metadata": {},
   "source": [
    "### Wyniki:\n",
    " - precyzja: 0.55\n",
    " - czułość: 0.55\n",
    " - ROC AUC score: 0.77"
   ]
  },
  {
   "cell_type": "code",
   "execution_count": 77,
   "metadata": {},
   "outputs": [
    {
     "data": {
      "image/png": "[encoded data removed]",
      "text/plain": [
       "<Figure size 640x480 with 1 Axes>"
      ]
     },
     "metadata": {},
     "output_type": "display_data"
    }
   ],
   "source": [
    "exp0 = [precision1, recall1, roc1, '0.1']\n",
    "exp1 = [precision4, recall4, roc4, '0.01']\n",
    "exp2 = [precision5, recall5, roc5, '0.3']\n",
    "exp3 = [precision6, recall6, roc6, '0.5']\n",
    "exp4 = [precision7, recall7, roc7, '0.7']\n",
    "exps = [exp0, exp1, exp2, exp3, exp4]\n",
    "fig, ax = plt.subplots()\n",
    "for exp in exps:\n",
    "    ax.plot(np.arange(3), exp[:3], label=exp[3])\n",
    "ax.set_xticks(np.arange(3))\n",
    "ax.set_xticklabels(['precision', 'recall', 'roc'])\n",
    "ax.legend()\n",
    "plt.grid()\n",
    "plt.show()\n"
   ]
  },
  {
   "cell_type": "markdown",
   "metadata": {},
   "source": [
    "## Wnioski:\n",
    " - dla tego zbioru danych najlepsze wyniki uzyskujemy dla learning rate równego 0.1"
   ]
  }
 ],
 "metadata": {
  "kernelspec": {
   "display_name": "Python 3",
   "language": "python",
   "name": "python3"
  },
  "language_info": {
   "codemirror_mode": {
    "name": "ipython",
    "version": 3
   },
   "file_extension": ".py",
   "mimetype": "text/x-python",
   "name": "python",
   "nbconvert_exporter": "python",
   "pygments_lexer": "ipython3",
   "version": "3.10.12"
  }
 },
 "nbformat": 4,
 "nbformat_minor": 2
}
